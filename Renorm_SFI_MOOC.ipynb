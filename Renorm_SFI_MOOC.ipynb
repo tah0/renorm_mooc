{
 "cells": [
  {
   "cell_type": "markdown",
   "metadata": {},
   "source": [
    "# Exercises, practical from the Sante Fe Institute Renormalization MOOC\n",
    "---\n",
    "\"a modern introduction to renormalization from a complex systems point of view\"\n",
    "\n",
    "<http://renorm.complexityexplorer.org/>\n",
    "\n",
    "Taught by Simon DeDeo\n",
    "\n",
    "## Contents\n",
    "1. [Unit 1 &mdash; An Introduction to Coarse-Graining](#1)\n",
    "2. [Unit 2 &mdash; Renormalizing Markov Chains](#2)\n",
    "3. (Unit 3 has no exercises)\n",
    "4. [Unit 4 &mdash; Renormalizing Cellular Automata](#3)\n",
    "1. [Unit 5 &mdash; Practical for Renormalizing the Ising Model](#4)\n",
    "2. [Unit 6 &mdash; Renormalizing the Creature (Krone-Rhodes)](#5)\n",
    "3. [Unit 7 &mdash; Renormalizing the Thermal Plasma](#6)\n",
    "4. [Unit 8 &mdash; Rate-Distortion Theory](#7)"
   ]
  },
  {
   "cell_type": "markdown",
   "metadata": {},
   "source": [
    "<a id=\"1\"></a>\n",
    "# Unit 1: An Introduction to Coarse-Graining\n",
    "---"
   ]
  },
  {
   "cell_type": "code",
   "execution_count": 1,
   "metadata": {
    "collapsed": true
   },
   "outputs": [],
   "source": [
    "data = [[\"a\", 0.0777093], [\"b\", 0.01694125], [\"c\", 0.02509587], \n",
    "[\"d\", 0.0415729],[\"e\", 0.1293273], [\"f\", 0.02237207], [\"g\", 0.01869932], \n",
    "[\"h\", 0.063514], [\"i\", 0.0705279], [\"j\", 0.00162383], [\"k\", 0.00598080], \n",
    "[\"l\", 0.04025481], [\"m\", 0.0275251], [\"n\", 0.0702613], [\"o\", 0.0746462], \n",
    "[\"p\", 0.01533419], [\"q\", 0.001168940], [\"r\", 0.0602125], [\"s\", 0.0617264], \n",
    "[\"t\", 0.0869565], [\"u\", 0.02793712], [\"v\", 0.01067520], [\"w\", 0.0229406], \n",
    "[\"x\", 0.001564180], [\"y\", 0.02368643], [\"z\", 0.001745021]]"
   ]
  },
  {
   "cell_type": "markdown",
   "metadata": {},
   "source": [
    "#### Q1: what is the entropy of the distribution?"
   ]
  },
  {
   "cell_type": "code",
   "execution_count": 2,
   "metadata": {},
   "outputs": [
    {
     "name": "stdout",
     "output_type": "stream",
     "text": [
      "Distribution entropy:  4.181203619915858\n"
     ]
    }
   ],
   "source": [
    "from math import log\n",
    "\n",
    "distribution = dict(data) #dict for easier lookup below\n",
    "letters = distribution.keys() \n",
    "values = distribution.values()\n",
    "\n",
    "def entropy(input_list):\n",
    "\treturn -1*sum([x*log(x,2) for x in input_list])\n",
    "\n",
    "data_H = entropy(values)\n",
    "print('Distribution entropy: ', data_H)"
   ]
  },
  {
   "cell_type": "markdown",
   "metadata": {},
   "source": [
    "#### Q2: Coarse-grain this distribution to “vowel” and “not-vowel” (i.e., map each of the letters into one of two categories). What is the entropy of this coarse-grained distribution? For simplicity, assume the vowels are just the letters “a”, “e”, “i”, “o” and “u”. Neglect letters that can sometimes function as a vowel, like “y”, or cases where a string of letters can indicate a vowel sound, as in “loose”.\n"
   ]
  },
  {
   "cell_type": "code",
   "execution_count": 3,
   "metadata": {},
   "outputs": [
    {
     "name": "stdout",
     "output_type": "stream",
     "text": [
      "Vowel/Not-vowel distribution entropy : 2.2653611758721515\n"
     ]
    }
   ],
   "source": [
    "vowels = [\"a\", \"e\", \"i\", \"o\", \"u\"]\n",
    "notvowels = list(letters - vowels)\n",
    "vowel_prob = [distribution[v] for v in vowels]\n",
    "notvowel_prob = [distribution[nv] for nv in notvowels]\n",
    "\n",
    "#by the coarse-graining axiom for entropy\n",
    "cg_H = sum(vowel_prob)*entropy(vowel_prob) + sum(notvowel_prob)*(entropy(notvowel_prob))\n",
    "# = 2.265361175872152\n",
    "print('Vowel/Not-vowel distribution entropy :', cg_H)"
   ]
  },
  {
   "cell_type": "markdown",
   "metadata": {},
   "source": [
    "#### Q3: What are some of the rules that might apply to this coarse-grained time-series? If you want to go further, “Part of Speech Taggers” are widespread online—see, for example, the tagger in the Python NLTK package, http://www.nltk.org/book/ch05.html."
   ]
  },
  {
   "cell_type": "markdown",
   "metadata": {
    "collapsed": true
   },
   "source": []
  },
  {
   "cell_type": "markdown",
   "metadata": {},
   "source": [
    "<a id=\"2\"></a>\n",
    "# Unit 2: Renormalizing Markov Chains\n",
    "---"
   ]
  },
  {
   "cell_type": "markdown",
   "metadata": {},
   "source": [
    "#### **Q1**: Prove the existence of two-state slippy counters that do not have a corresponding two-state microtheory (i.e., that can’t be derived as a coarse-graining of a two-state Markov chain of any form).\n"
   ]
  },
  {
   "cell_type": "markdown",
   "metadata": {
    "collapsed": true
   },
   "source": [
    "For a two-state slippy counter (single-parameter MC) to have a corresponding two-state microtheory, there must exist a stochastic matrix $A$ that is the square root of slippy counter transition matrix, $T$.\n",
    "\n",
    "$T$ is defined as:\n",
    "$\n",
    "\\begin{bmatrix} \n",
    "\\varepsilon & 1-\\varepsilon \\\\\n",
    "1-\\varepsilon & \\varepsilon \n",
    "\\end{bmatrix}\n",
    "$ $\\ldots$ with $\\varepsilon$ representing the \"stay\" probability.\n",
    "\n",
    "We can set up $A$ as:\n",
    "$ \n",
    "\\begin{bmatrix} \n",
    "a & 1-b \\\\\n",
    "1-a & b \n",
    "\\end{bmatrix}\n",
    "$\n",
    "\n",
    "Squaring $A$ yields $A^2 =$\n",
    "$\n",
    "\\begin{bmatrix} \n",
    "a^2+(1-b)(1-a) & a(1-b)+b(1-b) \\\\\n",
    "a(1-a)+b(1-a) & (1-a)(1-b)+b^2 \n",
    "\\end{bmatrix}\n",
    "$\n",
    "\n",
    "Since $\\varepsilon = a^2+(1-b)(1-a) = (1-a)(1-b)+b^2$, and $a > 0$, $b>0$, we know $a=b$\n",
    "\n",
    "Setting the top-left position of both $A^2$ and $T$ to be equal, and subbing $b$ for $a$\n",
    "\n",
    "$\\varepsilon = a^2 + (1-a)^2$\n",
    "\n",
    "$0 = 2a^2 - 2a + (1 - \\varepsilon)$\n",
    "\n",
    "$a = \\frac{2 \\pm \\sqrt{4-4(2)(1-\\varepsilon)}}{4}$\n",
    "\n",
    "$a = 1/2 \\pm 1/2\\sqrt{1 - 2(1-\\varepsilon)}$\n",
    "\n",
    "$1 - 2(1-\\varepsilon) > 0$ to avoid imaginary roots\n",
    "\n",
    "$2\\varepsilon > 1$\n",
    "\n",
    "$\\varepsilon > 1/2$\n",
    "\n",
    "That is, if $\\varepsilon < 1/2$ then $a$ (and $b$) are complex, meaning they can't correspond to a stochastic matrix. Any slippy counter with $\\varepsilon < 1/2$ cannot have been generated by the coarse-graining of a slippy counter."
   ]
  },
  {
   "cell_type": "markdown",
   "metadata": {},
   "source": [
    "#### Q2: Experiment with the three-state case. Take a Markov Chain over three states, represent it as a matrix, and use a system like Mathematica or Python to find the fixed points by repeated multiplication of the matrix on itself. Confirm the result using theory: find the eigenvector corresponding to the eigenvalue equal to unity, and show that the columns of the fixed point Markov chain are equal to the components of the first eigenvector."
   ]
  },
  {
   "cell_type": "code",
   "execution_count": 208,
   "metadata": {},
   "outputs": [
    {
     "name": "stdout",
     "output_type": "stream",
     "text": [
      "eigenvectors(columns):\n",
      " [[-0.80740505  0.32338083  0.58185935]\n",
      " [ 0.29847508  0.88929729 -0.78699396]\n",
      " [ 0.50892997  0.32338083  0.20513461]]\n",
      "\n",
      "eigenvalues:\n",
      " [-0.46729515  1.          0.41729515]\n",
      "\n",
      "eigenvector corresponding to eigenvalue==1 (normalized to sum to 1):\n",
      " [ 0.21052632  0.57894737  0.21052632]\n",
      "\n",
      "long run MC distribution:\n",
      " [[ 0.21052632  0.21052632  0.21052632]\n",
      " [ 0.57894737  0.57894737  0.57894737]\n",
      " [ 0.21052632  0.21052632  0.21052632]]\n",
      "\n",
      "evec == long run distribution?:  True\n"
     ]
    }
   ],
   "source": [
    "import numpy as np\n",
    "\n",
    "#left (i.e. solumn) stochastic matrix for MC\n",
    "three_state = np.array([0.1, 0.0, 0.9, \n",
    "                     0.5, 0.8, 0.05, \n",
    "                     0.4, 0.2, 0.05]).reshape(3,3)\n",
    "\n",
    "long_run = np.linalg.matrix_power(three_state, 100)\n",
    "vals, vecs = np.linalg.eig(three_state)\n",
    "v = np.where( np.isclose(vals,1) )\n",
    "stat = np.squeeze( vecs[:,v]/sum(vecs[:,v]) )\n",
    "print(\"eigenvectors(columns):\\n\", vecs)\n",
    "print(\"\\neigenvalues:\\n\", vals)\n",
    "print(\"\\neigenvector corresponding to eigenvalue==1 (normalized to sum to 1):\\n\", stat)\n",
    "print(\"\\nlong run MC distribution:\\n\", long_run)\n",
    "# print(long_run[:,0])\n",
    "\n",
    "print('\\nevec == long run distribution?: ', all( np.isclose(long_run[:,0], stat) ))"
   ]
  },
  {
   "cell_type": "markdown",
   "metadata": {
    "collapsed": true
   },
   "source": [
    "Note: I'm not sure why 'stat' is not a stochastic vector &mdash; I have to normalize here so it sums to 1"
   ]
  },
  {
   "cell_type": "markdown",
   "metadata": {},
   "source": [
    "#### Q3: Consider two rock-paper-scissors playing robots. Each robot decides what to do next based on both its move, and the move its opponent made, the step before. \n",
    "#### A. Write down two decision rules for each robot. You can make them up yourself; for example, a robot might play “best response” to its opponent’s prior move; another robot might play noisy best-response (i.e., with some small probability to play something other than best response). Then, for example, if the system is in state {R,P}, and robot one plays best response, its next move will be S (since Scissors would have beaten its opponent). In general, this will be a 9x3 matrix: for each of the nine possible states at the previous step {RR, RP, RS, PR, PP, PS, SR, SP, SS}, the robot has some probability to emit R, P, or S. If you write the matrix as A ia , then A 1,2 , for example is the probability that if the previous state of play was RR, then robot A will play paper. You might find it easier to use a dictionary representation if you’re working in Python, rather than keeping track of matrices.\n"
   ]
  },
  {
   "cell_type": "code",
   "execution_count": 6,
   "metadata": {},
   "outputs": [],
   "source": [
    "#Noisily play best response to opponent's previous move\n",
    "r1 = 0.1 #rate player1 plays a random move\n",
    "player1 = \\\n",
    "{'RR': (0.5*r1, 1-r1, 0.5*r1),\n",
    " 'RP': (0.5*r1, 0.5*r1, 1-r1),\n",
    " 'RS': (1-r1, 0.5*r1, 0.5*r1),\n",
    " 'PR': (0.5*r1, 1-r1, 0.5*r1),\n",
    " 'PP': (0.5*r1, 0.5*r1, 1-r1),\n",
    " 'PS': (1-r1, 0.5*r1, 0.5*r1),\n",
    " 'SR': (0.5*r1, 1-r1, 0.5*r1),\n",
    " 'SP': (0.5*r1, 0.5*r1, 1-r1),\n",
    " 'SS': (1-r1, 0.5*r1, 0.5*r1)}\n",
    "\n",
    "#Noisily play win-stay, (lose/tie)-shift\n",
    "r2 = 0.1 #rate player1 plays move outside strategy, i.e. shift on a win, stay on a loss\n",
    "player2 = \\\n",
    "{'RR': (r2, 0.5*(1-r2), 0.5*(1-r2)),\n",
    " 'RP': (1-r2, 0.5*r2, 0.5*r2),\n",
    " 'RS': (r2, 0.5*(1-r2), 0.5*(1-r2)),\n",
    " 'PR': (0.5*(1-r2), r2, 0.5*(1-r2)),\n",
    " 'PP': (0.5*(1-r2), r2, 0.5*(1-r2)),\n",
    " 'PS': (0.5*r2, 1-r2, 0.5*r2),\n",
    " 'SR': (0.5*r2, 0.5*r2, 1-r2),\n",
    " 'SP': (0.5*(1-r2), 0.5*(1-r2), r2),\n",
    " 'SS': (0.5*(1-r2), 0.5*(1-r2), r2)}\n"
   ]
  },
  {
   "cell_type": "markdown",
   "metadata": {},
   "source": [
    "#### B. Combine these two decision rules together to get the evolving Markov Chain for the pair. Technically is a bit tricky, because you have to convert the pair of output symbols (R, and R) to a single symbol in the larger list of 9 possible combinations. In general, the probability of going from state i to state j is equal to the product of A ia (“robot A sees i and plays move a”) and B ib (“robot B sees i and plays move b”), and where j is the combination of the a and b moves—equal to 3 × (a − 1) + b. For example, if j is equal to PS, then a = 2, and b = 3). Be careful to define the player B’s rules so that, for example PS means that he (player B) played S. Again, you might find it easier to use a dictionary representation if you work in Python.\n"
   ]
  },
  {
   "cell_type": "code",
   "execution_count": 213,
   "metadata": {},
   "outputs": [
    {
     "name": "stdout",
     "output_type": "stream",
     "text": [
      "[[ 0.005   0.045   0.09    0.0225  0.0225  0.045   0.0025  0.0225  0.405 ]\n",
      " [ 0.0225  0.0025  0.405   0.005   0.005   0.81    0.0025  0.0225  0.405 ]\n",
      " [ 0.0225  0.0025  0.405   0.0225  0.0225  0.045   0.045   0.005   0.09  ]\n",
      " [ 0.09    0.045   0.005   0.405   0.0225  0.0025  0.045   0.0225  0.0225]\n",
      " [ 0.405   0.0025  0.0225  0.09    0.005   0.045   0.045   0.0225  0.0225]\n",
      " [ 0.405   0.0025  0.0225  0.405   0.0225  0.0025  0.81    0.005   0.005 ]\n",
      " [ 0.005   0.81    0.005   0.0225  0.405   0.0025  0.0025  0.405   0.0225]\n",
      " [ 0.0225  0.045   0.0225  0.005   0.09    0.045   0.0025  0.405   0.0225]\n",
      " [ 0.0225  0.045   0.0225  0.0225  0.405   0.0025  0.045   0.09    0.005 ]]\n"
     ]
    }
   ],
   "source": [
    "probabilities = dict()\n",
    "for key in player1.keys():\n",
    "    probabilities[key] = np.concatenate(\n",
    "        [player1[key][0]*np.array(player2[key]), \n",
    "         player1[key][1]*np.array(player2[key]), \n",
    "         player1[key][2]*np.array(player2[key])])\n",
    "\n",
    "MC = np.array(list(probabilities.values())).transpose() \n",
    "#have to transpose because the dict values represent columns, but list() orders them as rows\n",
    "print(MC)"
   ]
  },
  {
   "cell_type": "markdown",
   "metadata": {},
   "source": [
    "#### C. Find the fixed points of this system. (In general, to make sure that you flow to the 2-dimensional subspace, you can add a small jitter probability epsilon to make sure that you don’t get stuck in “limit cycles”.) Which robot wins in the long run?"
   ]
  },
  {
   "cell_type": "code",
   "execution_count": 214,
   "metadata": {},
   "outputs": [
    {
     "name": "stdout",
     "output_type": "stream",
     "text": [
      "-0.550607287449 : Player 2 wins!\n"
     ]
    }
   ],
   "source": [
    "#By iterating the MC to find the fixed distribution...\n",
    "MC_fixed = np.linalg.matrix_power(MC, 100)\n",
    "\n",
    "#vector for who wins in each state\n",
    "winner = np.array([0,-1,1,1,0,-1,-1,1,0]) # 1 = Player1 win, -1 = Player2 win, 0 = tie\n",
    "longRunSum = sum(MC_fixed[:,0]*winner)\n",
    "# print(MC_fixed[0])\n",
    "# print(MC_fixed[0]*winner)\n",
    "print(longRunSum, ': Player {}'.format(1 + int(longRunSum<0)), 'wins!')"
   ]
  },
  {
   "cell_type": "code",
   "execution_count": 219,
   "metadata": {},
   "outputs": [
    {
     "name": "stdout",
     "output_type": "stream",
     "text": [
      "(-0.550607287449+0j) : Player 2 wins!\n"
     ]
    }
   ],
   "source": [
    "#Verify by finding the eigenvector of eigenvalue 1 and normalizing\n",
    "vals, vecs = np.linalg.eig(MC)\n",
    "\n",
    "v = np.where( np.isclose(vals,1) )\n",
    "stat = np.squeeze( vecs[:,v]/sum(vecs[:,v]) )\n",
    "# evals = np.linalg.eigvals(MC)\n",
    "# evals\n",
    "# np.where(evals[0] == 1)\n",
    "winner = np.array([0,-1,1,1,0,-1,-1,1,0]) # 1 = Player1 win, -1 = Player2 win, 0 = tie\n",
    "longRunSum = sum(stat*winner)\n",
    "print(longRunSum, ': Player {}'.format(1 + int(longRunSum<0)), 'wins!')"
   ]
  },
  {
   "cell_type": "markdown",
   "metadata": {},
   "source": [
    "<a id=\"3\"></a>\n",
    "# Unit 4: Renormalizing Cellular Automata\n",
    "---"
   ]
  },
  {
   "cell_type": "markdown",
   "metadata": {},
   "source": [
    "#### Q1: demonstrate the renormalization of Rule 105 to Rule 150. What other projections work? You’ll almost certainly want to code this up, but there’s no reason you can’t do it by hand with lots of paper. If you do try to code, here’s a guide for Python.\n",
    "\n",
    "(in the following, De Deo's guide is commented with `##`; my code is interspersed where relevant.)"
   ]
  },
  {
   "cell_type": "code",
   "execution_count": 3,
   "metadata": {},
   "outputs": [
    {
     "name": "stdout",
     "output_type": "stream",
     "text": [
      "f:rule 105, g:rule 150 : commutes?  True\n"
     ]
    }
   ],
   "source": [
    "## First decide on a representation of the fine-grained rule-set (the lookup table f). In Python\n",
    "## language, a simple choice would be an eight element list, where the first element is the output\n",
    "## for the {0,0,0} state, the second for the {0,0,1} state, and so forth. Note that Wolfram’s\n",
    "## definition of rules is a bit funny; Rule 0, for example, takes 000 (all black states) to 1 (white).\n",
    "## The easiest way to get this is by converting the number to binary, and then reversing the\n",
    "## bits—so, e.g., for Rule 105, the binary expansion is 01101001. If you reverse this, you get 10010110. \n",
    "## An input cell set “black, white, black” is then 010, or two; the third bit in the\n",
    "## string (or, second counting from zero) is 0, so “black, white, black” goes to “black”.\n",
    "## To access the lookup table, you’ll generically need to convert a list of 1s and 0s to the corresponding\n",
    "## integer. In Python, you can use the ”int” function; for example, the list position\n",
    "## corresponding to the state {0,1,1} is 3: int(’010’, 2) gives 2. So in Python, you\n",
    "## can figure out the evolution of Rule 105 given “black, white, black” initial conditions as\n",
    "## ’10010110’[int(’010’, 2)].\n",
    "\n",
    "def rule(rulenum):\n",
    "    b = format(rulenum, '08b') #convert to binary\n",
    "    return b[::-1] #reverse the binary rep\n",
    "\n",
    "## Then build a function that maps a lookup table f to the two-step evolution on the fine-grained\n",
    "## scale. If the states at the micro-level are denoted {a, b, c, d, e, f}, then the left and right\n",
    "## elements of the super-cell at time t+1 are given by A = f(f(a, b, c), f(b, c, d), f(c, d, e)) and\n",
    "## B = f(f(b, c, d), f(c, d, e), f(d, e, f)).\n",
    "\n",
    "def evolve(table, states, timesteps=1):\n",
    "    currState = ''.join([table[int(states[i:i+3],2)] for i in range(len(states)-2)])\n",
    "    if timesteps == 1:\n",
    "        return currState\n",
    "    else:\n",
    "        return evolve(table, currState, timesteps-1)\n",
    "\n",
    "## Decide on a representation for the projection operator. Again, in python language, a simple\n",
    "## choice is a four element list, where the first element is the projection of {0,0}, the second of\n",
    "## {0,1}, and so forth.\n",
    "\n",
    "def project(cells, operator):\n",
    "    #number of supercells\n",
    "    sc = range(int(len(cells)/2))\n",
    "    return ''.join([operator[int(cells[x*2:(x+1)*2], 2)] for x in sc])\n",
    "\n",
    "## With these in place, you can take an f (the fine grained rule), a p (the projection lookup table),\n",
    "## and a g (another rule, with the same 8-element lookup table), and determine whether the diagram\n",
    "## commutes. We need only determine whether p(A, B) is equal to g(P(a, b), P(c, d), P(e, f))\n",
    "## for all 2^6 values of {a, b, c, d, e, f}.\n",
    "\n",
    "## To cycle through the different values, it’s simplest to take a for-loop and convert the decimal\n",
    "## values back to a string representation. In python, you can use the string format (definitely\n",
    "## not optimized for speed): [[j for j in ’{0:b}’.format(i).rjust(6, ’0’)] for i in\n",
    "## range(2**6)]\n",
    "\n",
    "## Using the f and g corresponding to rule 105 and 150, along with the ”edge detector p”, you\n",
    "## should be able to confirm the result of the lecture.\n",
    "\n",
    "startStates = [format(j,'06b') for j in range(2**6)]\n",
    "p = '1001'\n",
    "r105 = rule(105)\n",
    "r150 = rule(150)\n",
    "\n",
    "# evolved = [evolve(r105, S, 2) for S in startStates]\n",
    "project_after_evolve = [project(evolve(r105, s, 2), p) for s in startStates]\n",
    "# projected = [project(S, P) for S in startStates]\n",
    "evolve_after_project = [evolve(r150, project(s, p)) for s in startStates]\n",
    "\n",
    "#check if they match (commute)\n",
    "print('f:rule 105, g:rule 150 : commutes? ', project_after_evolve == evolve_after_project)"
   ]
  },
  {
   "cell_type": "code",
   "execution_count": 47,
   "metadata": {},
   "outputs": [
    {
     "name": "stdout",
     "output_type": "stream",
     "text": [
      "{0: {0: ['0001', '0010', '0011', '0100', '0101', '0110', '0111'], 255: ['1000', '1001', '1010', '1011', '1100', '1101', '1110']}, 1: {1: ['0001'], 127: ['1110']}, 2: {0: ['0001', '0010', '0011', '0100', '0101', '0110', '0111'], 255: ['1000', '1001', '1010', '1011', '1100', '1101', '1110']}, 3: {3: ['0001'], 63: ['1110']}, 4: {0: ['0001'], 255: ['1110']}, 5: {1: ['0001', '0011', '0101'], 127: ['1010', '1100', '1110']}, 6: None, 7: None, 8: {0: ['0001'], 255: ['1110']}, 9: {1: ['0001'], 127: ['1110']}, 10: {12: ['0011', '0101'], 207: ['1010', '1100']}, 11: {12: ['0100'], 207: ['1011']}, 12: {0: ['0001'], 15: ['0010', '1101'], 255: ['1110']}, 13: {1: ['0001'], 127: ['1110']}, 14: {15: ['0010', '1101']}, 15: {15: ['0001', '0010', '0011', '0100', '0101', '0110', '0111', '1000', '1001', '1010', '1011', '1100', '1101', '1110']}, 16: {0: ['0001', '0010', '0011', '0100', '0101', '0110', '0111'], 255: ['1000', '1001', '1010', '1011', '1100', '1101', '1110']}, 17: {17: ['0001'], 119: ['1110']}, 18: None, 19: {51: ['0001', '1110']}, 20: None, 21: None, 22: None, 23: None, 24: {0: ['0001'], 255: ['1110']}, 25: {17: ['0001'], 119: ['1110']}, 26: None, 27: None, 28: None, 29: None, 30: None, 31: None, 32: {0: ['0001'], 255: ['1110']}, 33: {1: ['0001'], 127: ['1110']}, 34: {0: ['0001'], 51: ['0010', '1101'], 255: ['1110']}, 35: {3: ['0001'], 51: ['0010', '1101'], 63: ['1110']}, 36: {0: ['0001'], 255: ['1110']}, 37: None, 38: None, 39: None, 40: None, 41: None, 42: None, 43: None, 44: {12: ['0010'], 207: ['1101']}, 45: None, 46: {12: ['0010'], 207: ['1101']}, 47: {12: ['0010'], 207: ['1101']}, 48: {0: ['0001'], 51: ['0100', '1011'], 255: ['1110']}, 49: {17: ['0001'], 51: ['0100', '1011'], 119: ['1110']}, 50: None, 51: {51: ['0001', '0010', '0011', '0100', '0101', '0110', '0111', '1000', '1001', '1010', '1011', '1100', '1101', '1110']}, 52: None, 53: None, 54: None, 55: {51: ['0111', '1000']}, 56: None, 57: None, 58: None, 59: {3: ['1000'], 51: ['0100', '1011'], 63: ['0111']}, 60: {60: ['0011', '0101', '0110'], 195: ['1001', '1010', '1100']}, 61: {3: ['1000'], 63: ['0111']}, 62: None, 63: {3: ['1000'], 63: ['0111']}, 64: {0: ['0001'], 255: ['1110']}, 65: {1: ['0001'], 127: ['1110']}, 66: {0: ['0001'], 255: ['1110']}, 67: {3: ['0001'], 63: ['1110']}, 68: {0: ['0001'], 85: ['0100', '1011'], 255: ['1110']}, 69: {1: ['0001'], 127: ['1110']}, 70: None, 71: None, 72: None, 73: None, 74: None, 75: None, 76: None, 77: None, 78: None, 79: {1: ['1000'], 127: ['0111']}, 80: {68: ['0011', '0101'], 221: ['1010', '1100']}, 81: {68: ['0010'], 221: ['1101']}, 82: None, 83: None, 84: {85: ['0100', '1011']}, 85: {85: ['0001', '0010', '0011', '0100', '0101', '0110', '0111', '1000', '1001', '1010', '1011', '1100', '1101', '1110']}, 86: None, 87: None, 88: None, 89: None, 90: {90: ['0011', '0101', '0110'], 165: ['1001', '1010', '1100']}, 91: None, 92: None, 93: {1: ['1000'], 127: ['0111']}, 94: None, 95: {1: ['1000', '1010', '1100'], 127: ['0011', '0101', '0111']}, 96: None, 97: None, 98: None, 99: None, 100: {68: ['0100'], 221: ['1011']}, 101: None, 102: {102: ['0011', '0101', '0110'], 153: ['1001', '1010', '1100']}, 103: {17: ['1000'], 119: ['0111']}, 104: None, 105: {105: ['0011', '0101', '0110', '1001', '1010', '1100']}, 106: None, 107: None, 108: None, 109: None, 110: None, 111: {1: ['1000'], 127: ['0111']}, 112: None, 113: None, 114: None, 115: {17: ['1000'], 51: ['0010', '1101'], 119: ['0111']}, 116: {68: ['0100'], 221: ['1011']}, 117: {68: ['0100'], 221: ['1011']}, 118: None, 119: {17: ['1000'], 119: ['0111']}, 120: None, 121: None, 122: None, 123: {1: ['1000'], 127: ['0111']}, 124: None, 125: {1: ['1000'], 127: ['0111']}, 126: None, 127: {1: ['1000'], 127: ['0111']}, 128: None, 129: None, 130: None, 131: None, 132: None, 133: None, 134: None, 135: None, 136: None, 137: None, 138: None, 139: {12: ['0100'], 207: ['1011']}, 140: None, 141: None, 142: None, 143: {15: ['0100', '1011']}, 144: None, 145: None, 146: None, 147: None, 148: None, 149: None, 150: {105: ['0011', '0101', '0110', '1001', '1010', '1100']}, 151: None, 152: None, 153: {102: ['0110', '1010', '1100'], 153: ['0011', '0101', '1001']}, 154: None, 155: None, 156: None, 157: None, 158: None, 159: None, 160: {19: ['1010', '1100'], 55: ['0011', '0101']}, 161: None, 162: None, 163: None, 164: None, 165: {90: ['0110', '1010', '1100'], 165: ['0011', '0101', '1001']}, 166: None, 167: None, 168: None, 169: None, 170: {85: ['0001', '0010', '0011', '0100', '0101', '0110', '0111', '1000', '1001', '1010', '1011', '1100', '1101', '1110']}, 171: None, 172: None, 173: None, 174: None, 175: {12: ['1010', '1100'], 207: ['0011', '0101']}, 176: None, 177: None, 178: None, 179: None, 180: None, 181: None, 182: None, 183: None, 184: None, 185: None, 186: None, 187: {0: ['1000'], 51: ['0100', '1011'], 255: ['0111']}, 188: None, 189: {0: ['1000'], 255: ['0111']}, 190: None, 191: {0: ['0010', '0100', '0110', '1000', '1010', '1100', '1110'], 255: ['0001', '0011', '0101', '0111', '1001', '1011', '1101']}, 192: None, 193: None, 194: None, 195: {60: ['0110', '1010', '1100'], 195: ['0011', '0101', '1001']}, 196: None, 197: None, 198: None, 199: None, 200: None, 201: None, 202: None, 203: {12: ['0100'], 207: ['1011']}, 204: {51: ['0001', '0010', '0011', '0100', '0101', '0110', '0111', '1000', '1001', '1010', '1011', '1100', '1101', '1110']}, 205: None, 206: None, 207: {0: ['1000'], 15: ['0100', '1011'], 255: ['0111']}, 208: None, 209: {68: ['0010'], 221: ['1101']}, 210: None, 211: None, 212: None, 213: {85: ['0010', '1101']}, 214: None, 215: None, 216: None, 217: {68: ['0010'], 221: ['1101']}, 218: None, 219: {0: ['1000'], 255: ['0111']}, 220: None, 221: {0: ['1000'], 85: ['0010', '1101'], 255: ['0111']}, 222: None, 223: {0: ['1000'], 255: ['0111']}, 224: None, 225: None, 226: None, 227: None, 228: None, 229: None, 230: None, 231: {0: ['1000'], 255: ['0111']}, 232: None, 233: None, 234: None, 235: None, 236: None, 237: None, 238: None, 239: {0: ['1000'], 255: ['0111']}, 240: {15: ['0001', '0010', '0011', '0100', '0101', '0110', '0111', '1000', '1001', '1010', '1011', '1100', '1101', '1110']}, 241: None, 242: None, 243: {0: ['1000'], 51: ['0010', '1101'], 255: ['0111']}, 244: None, 245: {68: ['1010', '1100'], 221: ['0011', '0101']}, 246: None, 247: {0: ['0010', '0100', '0110', '1000', '1010', '1100', '1110'], 255: ['0001', '0011', '0101', '0111', '1001', '1011', '1101']}, 248: None, 249: None, 250: {19: ['0011', '0101'], 55: ['1010', '1100']}, 251: {0: ['1000'], 255: ['0111']}, 252: None, 253: {0: ['1000'], 255: ['0111']}, 254: None, 255: {0: ['0010', '0100', '0110', '1000', '1010', '1100', '1110'], 255: ['0001', '0011', '0101', '0111', '1001', '1011', '1101']}}\n"
     ]
    }
   ],
   "source": [
    "## The final step in their analysis is “simple”: for each f, cycle through the 2^4 possibilities\n",
    "## for p, and the 2^8 possibilities for g, to find choices of g and p that enable the diagram to\n",
    "## commute. For p, don’t forget that you’ll want to avoid the ”trivial” projections—[0,0,0,0] and\n",
    "## [1,1,1,1]—which are easy to avoid by setting the range from 1 to 2^4 − 1.\n",
    "\n",
    "P = [format(x, '04b') for x in range(1, (2**4)-1)] \n",
    "F = G = [rule(x) for x in range(0, 256)]\n",
    "S = [format(j,'06b') for j in range(2**6)]\n",
    "\n",
    "commutes = dict.fromkeys(range(0,256))\n",
    "\n",
    "def commute(f, g, p, s):\n",
    "    return project(evolve(f, s, 2), p) == evolve(g, project(s, p))\n",
    "\n",
    "def checkProjection(f, g, p):\n",
    "    for s in S:\n",
    "        if not commute(f, g, p, s):\n",
    "            return False\n",
    "    return True\n",
    "\n",
    "\n",
    "def checkRule(f,g):\n",
    "    projs = [p for p in P if checkProjection(f,g,p)]\n",
    "    if projs:\n",
    "        return projs\n",
    "    return False\n",
    "\n",
    "for f in F:\n",
    "#     matches = [{int(g,2): checkRule(f, g)} for g in G if checkRule(f, g)]\n",
    "    matches = {int(g,2): checkRule(f, g) for g in G if checkRule(f, g)}\n",
    "    if matches:\n",
    "        commutes[int(f,2)] = matches\n",
    "    \n",
    "# print(commutes)"
   ]
  },
  {
   "cell_type": "code",
   "execution_count": 2,
   "metadata": {},
   "outputs": [
    {
     "name": "stdout",
     "output_type": "stream",
     "text": [
      "READ BELOW AS: \n",
      " {F : \n",
      "      \t{G : [ \n",
      "         \t\tP1, \n",
      "         \t\tP2, \n",
      "         \t\t...,\n",
      "         \t\tPn \n",
      "         \t\t]\n",
      "     \t}\n",
      " }\n",
      "\n",
      "------------------------------ \n",
      "\n"
     ]
    },
    {
     "ename": "NameError",
     "evalue": "name 'commutes' is not defined",
     "output_type": "error",
     "traceback": [
      "\u001b[0;31m---------------------------------------------------------------------------\u001b[0m",
      "\u001b[0;31mNameError\u001b[0m                                 Traceback (most recent call last)",
      "\u001b[0;32m<ipython-input-2-b32386a9a8fd>\u001b[0m in \u001b[0;36m<module>\u001b[0;34m()\u001b[0m\n\u001b[1;32m      4\u001b[0m \u001b[0mprint\u001b[0m\u001b[0;34m(\u001b[0m\u001b[0;34m'READ BELOW AS: \\n {F : \\n      \\t{G : [ \\n         \\t\\tP1, \\n         \\t\\tP2, \\n         \\t\\t...,\\n         \\t\\tPn \\n         \\t\\t]\\n     \\t}\\n }\\n'\u001b[0m\u001b[0;34m)\u001b[0m\u001b[0;34m\u001b[0m\u001b[0m\n\u001b[1;32m      5\u001b[0m \u001b[0mprint\u001b[0m\u001b[0;34m(\u001b[0m\u001b[0;34m'------------------------------ \\n'\u001b[0m\u001b[0;34m)\u001b[0m\u001b[0;34m\u001b[0m\u001b[0m\n\u001b[0;32m----> 6\u001b[0;31m \u001b[0mprint\u001b[0m\u001b[0;34m(\u001b[0m\u001b[0mjson\u001b[0m\u001b[0;34m.\u001b[0m\u001b[0mdumps\u001b[0m\u001b[0;34m(\u001b[0m\u001b[0mcommutes\u001b[0m\u001b[0;34m,\u001b[0m \u001b[0mindent\u001b[0m\u001b[0;34m=\u001b[0m\u001b[0;36m4\u001b[0m\u001b[0;34m)\u001b[0m\u001b[0;34m)\u001b[0m\u001b[0;34m\u001b[0m\u001b[0m\n\u001b[0m",
      "\u001b[0;31mNameError\u001b[0m: name 'commutes' is not defined"
     ]
    }
   ],
   "source": [
    "# let's take a look at the f, g, p relationships\n",
    "# a hack way to legibly print dictionaries\n",
    "import json\n",
    "print('READ BELOW AS: \\n \\\n",
    "{F : \\n  \\\n",
    "    \\t{G : [ \\n \\\n",
    "        \\t\\tP1, \\n \\\n",
    "        \\t\\tP2, \\n \\\n",
    "        \\t\\t...,\\n \\\n",
    "        \\t\\tPn \\n \\\n",
    "        \\t\\t]\\n \\\n",
    "    \\t}\\n \\\n",
    "}\\n')\n",
    "print('------------------------------ \\n')\n",
    "print(json.dumps(commutes, indent=4))\n"
   ]
  },
  {
   "cell_type": "markdown",
   "metadata": {},
   "source": [
    "<a id=\"5\"></a>\n",
    "# Unit 5: Ising practical \n",
    "---"
   ]
  },
  {
   "cell_type": "markdown",
   "metadata": {},
   "source": [
    "#### Suggest a social or biological system where the internal structure of a component might be a two dimensional vector with unrestricted length."
   ]
  },
  {
   "cell_type": "markdown",
   "metadata": {},
   "source": [
    "#### What network might describe the Ising model at a cocktail party, where guests are perfectly mingling?"
   ]
  },
  {
   "cell_type": "markdown",
   "metadata": {},
   "source": [
    "#### If you are an evolutionary biologist, what network structures might be more or less amenable to the emergence of cooperation and group selection?"
   ]
  },
  {
   "cell_type": "markdown",
   "metadata": {},
   "source": [
    "#### In words, what configurations (choices for the values of the nodes) give you lower energy? What give you higher energy?"
   ]
  },
  {
   "cell_type": "markdown",
   "metadata": {},
   "source": [
    "Lower energy states have more interacting cells in the same spin state. Higher energy states have more interacting cells in unlike spin states."
   ]
  },
  {
   "cell_type": "markdown",
   "metadata": {},
   "source": [
    "#### Take $N$ to be three, and have all the nodes connected to each other. Write down the matrix $J_{ij}$ . What is the energy of such a system when $σ_1$, $σ_2$ and $σ_3$ are all $+1$? What about when they are all $−1$? "
   ]
  },
  {
   "cell_type": "code",
   "execution_count": 62,
   "metadata": {},
   "outputs": [
    {
     "name": "stdout",
     "output_type": "stream",
     "text": [
      "J: \n",
      " [[0 1 1]\n",
      " [0 0 1]\n",
      " [0 0 0]] \n",
      "\n",
      "energy of state (-1, -1, -1) =  -3\n",
      "energy of state (-1, -1, 1) =  1\n",
      "energy of state (-1, 1, -1) =  1\n",
      "energy of state (-1, 1, 1) =  1\n",
      "energy of state (1, -1, -1) =  1\n",
      "energy of state (1, -1, 1) =  1\n",
      "energy of state (1, 1, -1) =  1\n",
      "energy of state (1, 1, 1) =  -3\n"
     ]
    }
   ],
   "source": [
    "import numpy as np\n",
    "import itertools\n",
    "\n",
    "shape = (3,1)\n",
    "sigma = np.ones( shape, dtype=int)\n",
    "J = np.triu(np.ones( (sigma.size, sigma.size) , dtype=int)) - np.identity(sigma.size, dtype=int) #row to column\n",
    "\n",
    "def energy(state, J):\n",
    "    return -1*sum([J[i][j]*state[i]*state[j] for i in range(state.size) for j in range(state.size)])\n",
    "\n",
    "print('J: \\n', J, '\\n')\n",
    "for s in itertools.product([-1,1],repeat=3):\n",
    "    print('energy of state',s,'= ', energy(np.array(s),J)) "
   ]
  },
  {
   "cell_type": "markdown",
   "metadata": {},
   "source": [
    "#### What is the symmetry of this interaction? How could you alter $H$ to break it?\n",
    "\n",
    "For $n \\leq N$, states with $n$ cells spin-up have equal energy, and they have the same energy as all states with $n$ cells spin-down."
   ]
  },
  {
   "cell_type": "code",
   "execution_count": 65,
   "metadata": {},
   "outputs": [
    {
     "name": "stdout",
     "output_type": "stream",
     "text": [
      "energy' of state (-1, -1, -1) =  6\n",
      "energy' of state (-1, -1, 1) =  2\n",
      "energy' of state (-1, 1, -1) =  2\n",
      "energy' of state (-1, 1, 1) =  -2\n",
      "energy' of state (1, -1, -1) =  2\n",
      "energy' of state (1, -1, 1) =  -2\n",
      "energy' of state (1, 1, -1) =  -2\n",
      "energy' of state (1, 1, 1) =  -6\n"
     ]
    }
   ],
   "source": [
    "#An energy function that would break this symmetry:\n",
    "def energyBreak(state, J):\n",
    "    #must \"treat\" +1,-1 differently\n",
    "    return -1*sum([J[i][j]*(state[i]+state[j]) for i in range(state.size) for j in range(state.size)])\n",
    "\n",
    "for s in itertools.product([-1,1],repeat=3):\n",
    "    print('energy\\' of state',s,'= ', energyBreak(np.array(s),J)) \n"
   ]
  },
  {
   "cell_type": "markdown",
   "metadata": {},
   "source": [
    "This function still has symmetry across states with the same number and sign of cells, but breaks the symmetry across states with equal number of same-sign cells\n",
    "\n",
    "e.g. $H(-1,1,1)$ no longer equals $H(1,-1,-1)$, but still equals $H(1,-1,1)$"
   ]
  },
  {
   "cell_type": "markdown",
   "metadata": {},
   "source": [
    "#### A state space with +1 and −1 can at best have an $H$ symmetric on switching sign. Pick a state space that is more interesting than {+1, −1}. How about one that can have more interesting symmetries? How about a system with $n$ states – now it can be symmetric under the $n!$ permutations? "
   ]
  },
  {
   "cell_type": "code",
   "execution_count": null,
   "metadata": {
    "collapsed": true
   },
   "outputs": [],
   "source": []
  },
  {
   "cell_type": "markdown",
   "metadata": {},
   "source": [
    "#### Take n to be three, and write an H that breaks permutation symmetry on {red, black, yellow}. Can you find an H that breaks permutation symmetry to a smaller symmetry group – say, to a permutation on only two elements? Can you think of a friend who has this reduced symmetry? "
   ]
  },
  {
   "cell_type": "code",
   "execution_count": null,
   "metadata": {
    "collapsed": true
   },
   "outputs": [],
   "source": []
  },
  {
   "cell_type": "markdown",
   "metadata": {},
   "source": [
    "#### Read up on the groups $S_n$ (all permutations on $n$ elements) and $A_n$ (the alternating group on $n$ elements.) Take $n$ to be four, and write an $H$ that breaks $S_4$ to $A_4$ . What happens if you try to do this in the $n = 3$ case? ($S_3$ to $A_3$) "
   ]
  },
  {
   "cell_type": "code",
   "execution_count": null,
   "metadata": {
    "collapsed": true
   },
   "outputs": [],
   "source": []
  },
  {
   "cell_type": "markdown",
   "metadata": {},
   "source": [
    "#### How about a continuous state space, perhaps symmetric under O(2), or SU (3)?"
   ]
  },
  {
   "cell_type": "code",
   "execution_count": null,
   "metadata": {
    "collapsed": true
   },
   "outputs": [],
   "source": []
  },
  {
   "cell_type": "markdown",
   "metadata": {},
   "source": [
    "#### Given the $N = 3$ system above, what is $P(\\{+1, +1, +1\\})$ when $β$ is 1, or 10, or 0.1? How does it compare to $P(\\{+1, +1, −1\\})$? What does this tell you about the relation between order and (inverse) temperature? "
   ]
  },
  {
   "cell_type": "code",
   "execution_count": null,
   "metadata": {
    "collapsed": true
   },
   "outputs": [],
   "source": []
  },
  {
   "cell_type": "markdown",
   "metadata": {},
   "source": [
    "#### Recall the definition of entropy. How does the entropy, $S$, of the $N = 3$ system change as a function of $β$? "
   ]
  },
  {
   "cell_type": "code",
   "execution_count": 76,
   "metadata": {},
   "outputs": [
    {
     "name": "stdout",
     "output_type": "stream",
     "text": [
      "(-1, -1, -1) [7.0805904254859815e-19, 0.0030340827600584424, 0.091316293623993447, 0.12128761878313185]\n",
      "(-1, -1, 1) [0.16666666666666666, 0.16565530574664719, 0.1362279021253355, 0.1262374604056227]\n",
      "(-1, 1, -1) [0.16666666666666666, 0.16565530574664719, 0.1362279021253355, 0.1262374604056227]\n",
      "(-1, 1, 1) [0.16666666666666666, 0.16565530574664719, 0.1362279021253355, 0.1262374604056227]\n",
      "(1, -1, -1) [0.16666666666666666, 0.16565530574664719, 0.1362279021253355, 0.1262374604056227]\n",
      "(1, -1, 1) [0.16666666666666666, 0.16565530574664719, 0.1362279021253355, 0.1262374604056227]\n",
      "(1, 1, -1) [0.16666666666666666, 0.16565530574664719, 0.1362279021253355, 0.1262374604056227]\n",
      "(1, 1, 1) [7.0805904254859815e-19, 0.0030340827600584424, 0.091316293623993447, 0.12128761878313185]\n",
      "beta: -1.0 entropy:  2.6287617321\n",
      "beta: -0.9 entropy:  2.64491976491\n",
      "beta: -0.8 entropy:  2.66632003881\n",
      "beta: -0.7 entropy:  2.69416843702\n",
      "beta: -0.6 entropy:  2.72957147286\n",
      "beta: -0.5 entropy:  2.77316624405\n",
      "beta: -0.4 entropy:  2.82447797213\n",
      "beta: -0.3 entropy:  2.88094227178\n",
      "beta: -0.2 entropy:  2.93666257303\n",
      "beta: -0.1 entropy:  2.98129912042\n",
      "beta: 0.0 entropy:  3.0\n",
      "beta: 0.1 entropy:  2.97564248955\n",
      "beta: 0.2 entropy:  2.89402907737\n",
      "beta: 0.3 entropy:  2.75049031084\n",
      "beta: 0.4 entropy:  2.55392201583\n",
      "beta: 0.5 entropy:  2.32480343456\n",
      "beta: 0.6 entropy:  2.08800436891\n",
      "beta: 0.7 entropy:  1.86499278024\n",
      "beta: 0.8 entropy:  1.66947783463\n",
      "beta: 0.9 entropy:  1.50714188143\n",
      "beta: 1.0 entropy:  1.37774152696\n"
     ]
    }
   ],
   "source": [
    "import itertools\n",
    "def boltzmann(state, J, beta):\n",
    "    Z = sum([np.exp(-beta*energy(np.array(sig), J)) for sig in itertools.product([-1,1],repeat=state.size)])\n",
    "    return np.exp(-beta*energy(state, J))/Z\n",
    "    \n",
    "sigma = np.array([1, 1, 1])\n",
    "# print('+1,+1,+1:',[boltzmann(sigma, J, 0.1), boltzmann(sigma, J, 1), boltzmann(sigma, J, 10)])\n",
    "sigma1 = np.array([1, 1, -1])\n",
    "# print('+1,+1,-1:',[boltzmann(sigma1, J, 0.1), boltzmann(sigma1, J, 1), boltzmann(sigma1, J, 10)])\n",
    "\n",
    "for s in itertools.product([-1,1],repeat=3):\n",
    "    print(s, [boltzmann(np.array(s), J, -10), boltzmann(np.array(s), J, -1), boltzmann(np.array(s), J, -0.1), boltzmann(np.array(s), J, -0.01)])\n",
    "\n",
    "\n",
    "distribution = {s:boltzmann(np.array(s), J, 0.9) for s in itertools.product([-1,1],repeat=3)}\n",
    "\n",
    "# entropy(distribution.values())\n",
    "# print(entropy()\n",
    "# print([boltzmann(np.array(s), J, 0.9) for s in itertools.product([-1,1],repeat=3)])\n",
    "for beta in range(-10,11):\n",
    "    print('beta:',round(0.1*beta, 2), 'entropy: ', entropy([boltzmann(np.array(s), J, 0.1*beta) for s in itertools.product([-1,1],repeat=3)]))"
   ]
  },
  {
   "cell_type": "markdown",
   "metadata": {},
   "source": [
    "Beta decreases from 3 to 1 as beta increases from 0 to inf. Intuitively this makes sense, as non-interacting cells ($\\beta = 0$) are equivalent to $3$ independent random variables with equal probability across two values, or 3 bits of information, whereas high beta values ($\\beta > 2.1$) push the nearly all the probability mass evenly into the $+1,+1,+1$ and $-1,-1,-1$ states, which is equivalent to a single random variable with two equally probable outcomes, or one bit of information.\n",
    "\n",
    "As beta decreases from 0, the entropy values approach $\\approx 2.585$. In this case, increasing negative beta pushes the probability mass from the most ordered to (evenly over) the most disordered states\n",
    "\n",
    "$-\\sum_\\sigma (P(\\sigma)\\cdot \\log_{2}(P(\\sigma))) \\approx 2.585$ where $P(\\{-1,-1,-1\\}) \\approx 0$ and $P(\\{+1,+1,+1\\}) \\approx 0$ and for any other state $\\approx 1/6$"
   ]
  },
  {
   "cell_type": "markdown",
   "metadata": {},
   "source": [
    "#### How about the heat capacity, defined as $dS/dβ$? Where is the maximum of the heat capacity? Can you see how to use $Z(β)$ to compute quantities like entropy?"
   ]
  },
  {
   "cell_type": "code",
   "execution_count": null,
   "metadata": {
    "collapsed": true
   },
   "outputs": [],
   "source": []
  },
  {
   "cell_type": "markdown",
   "metadata": {},
   "source": [
    "#### Let’s start with the Ising model. Consider the contribution to the energy from a single (arbitrarily chosen) spin $σ_a$ , $H_{a} = -\\sigma_{a} \\sum_{i} J_{ia} \\sigma_{i}$ . Derive this from Eq. 1, or, conversely, convince yourself that $H$ is a $\\sum_{a} H_{a}$ \n"
   ]
  },
  {
   "cell_type": "markdown",
   "metadata": {},
   "source": [
    "$H(\\{\\sigma_{i}\\}) = - \\sum_{i,j}J_{ij}\\sigma_{i}\\sigma_{j}$\n",
    "\n",
    "$H(\\sigma_{a}) = - \\sum_{i,a}J_{ia}\\sigma_{i}\\sigma_{a}$\n",
    "\n",
    "$H(\\sigma_{a}) = - \\sigma_{a} \\sum_{i}J_{ia}\\sigma_{i}$"
   ]
  },
  {
   "cell_type": "markdown",
   "metadata": {},
   "source": [
    "#### What is $n_c$ on a two-dimensional lattice (such as the lines on a Go board, or the street corners in uptown Manhattan.) What is $n_c$ on a fully connected graph? What is $n_{c}$ on the small world network? "
   ]
  },
  {
   "cell_type": "markdown",
   "metadata": {},
   "source": [
    "$ H_a = −n_{c}σ_{a}σ̄$\n",
    "\n",
    "- On a two-dimensional lattice $n_{c}=4$, assuming the lattice is infinite or has a left-right, top-bottom \"wrap around\" topology. \n",
    "\n",
    "- For a Go board or similar $i \\times j$ lattice with boundaries, the $(i-2)\\times(j-2)$ center cells have $n_{c}=4$, the $2(j-2) + 2(i-2)$ side cells have $n_{c}=3$, and the 4 corner cells have $n_{c}=2$. \n",
    "\n",
    "- On a fully connected graph, $n_{c}=N-1$.\n",
    "\n",
    "- On a small-world network, $n_{c}$ is a value from the degree distribution."
   ]
  },
  {
   "cell_type": "markdown",
   "metadata": {},
   "source": [
    "<a id=\"6\"></a>\n",
    "# Unit 6: Renormalizing the Creature (Krohn-Rhodes Theorem) \n",
    "---"
   ]
  },
  {
   "cell_type": "markdown",
   "metadata": {},
   "source": [
    "#### Consider now the “cyclic” group $Z_6$ . In our language, $Z_6$ is a creature with six internal states, and a single operator, C. If we number the states, then C takes 1 → 2, 2 → 3, 3 → 4, 4 → 5, 5 → 6, and 6 → 1. (So you can think of it as a counter that only goes up to six before jumping back to one.)"
   ]
  },
  {
   "cell_type": "markdown",
   "metadata": {},
   "source": [
    "#### Q1: Find a coarse-graining of $Z_6$ with two states. Hint: you might find it helpful to draw the transitions in a $2 × 3$ grid. \n",
    "\n",
    "$\\text{Odd} = \\{1,3,5\\}$ \n",
    "\n",
    "$\\text{Even} = \\{2,4,6\\}$\n",
    "\n",
    "$C : O \\rightarrow E$\n",
    "\n",
    "$C : E \\rightarrow O$\n",
    "\n",
    "(notation probably butchered!)"
   ]
  },
  {
   "cell_type": "markdown",
   "metadata": {},
   "source": [
    "#### Q2: Find a coarse-graining of $Z_{36}$ with 3 states.\n",
    "\n",
    "$R_1 = \\{1,4,7, \\ldots , 34\\}$\n",
    "\n",
    "$R_2 = \\{2,5,8, \\ldots , 35\\}$\n",
    "\n",
    "$R_0 = \\{3,6,9, \\ldots , 36\\}$ \n",
    "\n",
    "$C : R_1 \\rightarrow R_2$\n",
    "\n",
    "$C : R_2 \\rightarrow R_0$\n",
    "\n",
    "$C : R_0 \\rightarrow R_1$"
   ]
  },
  {
   "cell_type": "markdown",
   "metadata": {},
   "source": [
    "#### Q3: Explain why $Z_{13}$ doesn’t have a (deterministic) coarse-graining.\n",
    "\n",
    "There is no way to divide a prime number of states into subsets of equal size &mdash; the size and number of subsets would be the number's factors, if so &mdash; which is required of a coarse-graining that has a single deterministic transition."
   ]
  },
  {
   "cell_type": "markdown",
   "metadata": {},
   "source": [
    "<a id=\"7\"></a>\n",
    "# Unit 7: Renormalizing the Thermal Plasma "
   ]
  },
  {
   "cell_type": "markdown",
   "metadata": {},
   "source": [
    "### Q1: Plot the effective electric charge at some fixed distance r, as a function of temperature, and plasma density. How do these effects compete?"
   ]
  },
  {
   "cell_type": "markdown",
   "metadata": {},
   "source": [
    "### Q2: If you have a background in physics, work through the full derivation of the Debye length using Richard Fitzpatrick’s material (see recommended reading). My blackboard work here is a partial account of that derivation."
   ]
  },
  {
   "cell_type": "markdown",
   "metadata": {},
   "source": [
    "<a id=\"8\"></a>\n",
    "# Unit 8: Rate-Distortion Theory: Keeping the Things that Matter "
   ]
  },
  {
   "cell_type": "markdown",
   "metadata": {},
   "source": [
    "### Q1: Write down a distortion matrix that leads you to prefer the two-state model. Write down a distortion matrix that leads you to prefer the original three-state coarse-graining. In this case, don’t worry about the mutual information term; just find a distortion matrix that makes one preferable to the other as a representation of the system."
   ]
  }
 ],
 "metadata": {
  "kernelspec": {
   "display_name": "Python 3",
   "language": "python",
   "name": "python3"
  },
  "language_info": {
   "codemirror_mode": {
    "name": "ipython",
    "version": 3
   },
   "file_extension": ".py",
   "mimetype": "text/x-python",
   "name": "python",
   "nbconvert_exporter": "python",
   "pygments_lexer": "ipython3",
   "version": "3.6.4"
  }
 },
 "nbformat": 4,
 "nbformat_minor": 2
}
